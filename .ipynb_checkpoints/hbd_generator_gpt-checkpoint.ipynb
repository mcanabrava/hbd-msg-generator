{
 "cells": [
  {
   "cell_type": "code",
   "execution_count": 58,
   "id": "93d84ff1",
   "metadata": {},
   "outputs": [
    {
     "name": "stdout",
     "output_type": "stream",
     "text": [
      "Collecting openai\n",
      "  Downloading openai-0.28.0-py3-none-any.whl (76 kB)\n",
      "     ---------------------------------------- 76.5/76.5 KB 2.1 MB/s eta 0:00:00\n",
      "Requirement already satisfied: requests>=2.20 in c:\\users\\marce\\appdata\\local\\programs\\python\\python310\\lib\\site-packages (from openai) (2.28.1)\n",
      "Requirement already satisfied: aiohttp in c:\\users\\marce\\appdata\\local\\programs\\python\\python310\\lib\\site-packages (from openai) (3.8.4)\n",
      "Requirement already satisfied: tqdm in c:\\users\\marce\\appdata\\local\\programs\\python\\python310\\lib\\site-packages (from openai) (4.64.1)\n",
      "Requirement already satisfied: certifi>=2017.4.17 in c:\\users\\marce\\appdata\\local\\programs\\python\\python310\\lib\\site-packages (from requests>=2.20->openai) (2022.12.7)\n",
      "Requirement already satisfied: idna<4,>=2.5 in c:\\users\\marce\\appdata\\local\\programs\\python\\python310\\lib\\site-packages (from requests>=2.20->openai) (3.4)\n",
      "Requirement already satisfied: charset-normalizer<3,>=2 in c:\\users\\marce\\appdata\\local\\programs\\python\\python310\\lib\\site-packages (from requests>=2.20->openai) (2.1.1)\n",
      "Requirement already satisfied: urllib3<1.27,>=1.21.1 in c:\\users\\marce\\appdata\\local\\programs\\python\\python310\\lib\\site-packages (from requests>=2.20->openai) (1.26.13)\n",
      "Requirement already satisfied: frozenlist>=1.1.1 in c:\\users\\marce\\appdata\\local\\programs\\python\\python310\\lib\\site-packages (from aiohttp->openai) (1.3.3)\n",
      "Requirement already satisfied: yarl<2.0,>=1.0 in c:\\users\\marce\\appdata\\local\\programs\\python\\python310\\lib\\site-packages (from aiohttp->openai) (1.9.2)\n",
      "Requirement already satisfied: aiosignal>=1.1.2 in c:\\users\\marce\\appdata\\local\\programs\\python\\python310\\lib\\site-packages (from aiohttp->openai) (1.3.1)\n",
      "Requirement already satisfied: multidict<7.0,>=4.5 in c:\\users\\marce\\appdata\\local\\programs\\python\\python310\\lib\\site-packages (from aiohttp->openai) (6.0.4)\n",
      "Requirement already satisfied: async-timeout<5.0,>=4.0.0a3 in c:\\users\\marce\\appdata\\local\\programs\\python\\python310\\lib\\site-packages (from aiohttp->openai) (4.0.2)\n",
      "Requirement already satisfied: attrs>=17.3.0 in c:\\users\\marce\\appdata\\local\\programs\\python\\python310\\lib\\site-packages (from aiohttp->openai) (22.1.0)\n",
      "Requirement already satisfied: colorama in c:\\users\\marce\\appdata\\local\\programs\\python\\python310\\lib\\site-packages (from tqdm->openai) (0.4.5)\n",
      "Installing collected packages: openai\n",
      "Successfully installed openai-0.28.0\n",
      "Note: you may need to restart the kernel to use updated packages.\n"
     ]
    },
    {
     "name": "stderr",
     "output_type": "stream",
     "text": [
      "WARNING: Retrying (Retry(total=4, connect=None, read=None, redirect=None, status=None)) after connection broken by 'NewConnectionError('<pip._vendor.urllib3.connection.HTTPSConnection object at 0x0000021BD2E145E0>: Failed to establish a new connection: [Errno 11001] getaddrinfo failed')': /simple/openai/\n",
      "WARNING: You are using pip version 22.0.4; however, version 23.2.1 is available.\n",
      "You should consider upgrading via the 'C:\\Users\\marce\\AppData\\Local\\Programs\\Python\\Python310\\python.exe -m pip install --upgrade pip' command.\n"
     ]
    }
   ],
   "source": [
    "pip install openai"
   ]
  },
  {
   "cell_type": "code",
   "execution_count": 59,
   "id": "62e3a761",
   "metadata": {},
   "outputs": [],
   "source": [
    "import requests\n",
    "import configparser\n",
    "import openai"
   ]
  },
  {
   "cell_type": "code",
   "execution_count": 62,
   "id": "6549101c",
   "metadata": {},
   "outputs": [],
   "source": [
    "config = configparser.ConfigParser()\n",
    "\n",
    "config.read('creds.cfg')\n",
    "openai.api_key = config['creds']['api_key']"
   ]
  },
  {
   "cell_type": "code",
   "execution_count": 79,
   "id": "ec26501a",
   "metadata": {},
   "outputs": [],
   "source": [
    "## User inputs\n",
    "\n",
    "max_words = 100 #número aproximado de palavras\n",
    "friend_name = 'Caetana'\n",
    "words = ['cachorro', 'louco', 'divertido']\n",
    "relationship_type = 'esposa'\n",
    "style ='poema'"
   ]
  },
  {
   "cell_type": "code",
   "execution_count": 74,
   "id": "3c9d81fd",
   "metadata": {},
   "outputs": [],
   "source": [
    "def get_completion(prompt, model=\"gpt-3.5-turbo\"):\n",
    "    messages = [{\"role\": \"user\", \"content\": prompt}]\n",
    "    response = openai.ChatCompletion.create(\n",
    "        model=model,\n",
    "        messages=messages,\n",
    "        temperature=0.9,\n",
    "    )\n",
    "    return response.choices[0].message[\"content\"]"
   ]
  },
  {
   "cell_type": "code",
   "execution_count": 80,
   "id": "22e26c14",
   "metadata": {},
   "outputs": [
    {
     "name": "stdout",
     "output_type": "stream",
     "text": [
      "Feliz aniversário, minha Caetana amada!\n",
      "Tão linda e especial, minha alma enlevada.\n",
      "Como um cachorro, sua alegria é contagiante,\n",
      "Sua energia é única, sempre vibrante.\n",
      "Você é meu louco devaneio, meu abrigo,\n",
      "Nossas risadas juntos, meu doce amigo.\n",
      "Seu espírito divertido é como um vento a brincar,\n",
      "A cada momento ao seu lado, tudo é se encantar.\n",
      "Que seu dia seja repleto de amor e fantasia,\n",
      "Que sua vida seja uma eterna sinfonia.\n",
      "Parabéns, esposa querida, minha Caetana,\n",
      "Com você, a vida é uma dança insana!\n"
     ]
    }
   ],
   "source": [
    "prompt = f\"Hoje é aniversário da {friend_name}, que é minha {relationship_type}. Crie uma mensagem de parabéns com as palavras da lista {words} e que tenha no máximo {max_words} palavras. Escreva um texto em formato {style}\"\n",
    "response = get_completion(prompt)\n",
    "print(response)"
   ]
  },
  {
   "cell_type": "code",
   "execution_count": null,
   "id": "8d6d968d",
   "metadata": {},
   "outputs": [],
   "source": []
  }
 ],
 "metadata": {
  "kernelspec": {
   "display_name": "Python 3 (ipykernel)",
   "language": "python",
   "name": "python3"
  },
  "language_info": {
   "codemirror_mode": {
    "name": "ipython",
    "version": 3
   },
   "file_extension": ".py",
   "mimetype": "text/x-python",
   "name": "python",
   "nbconvert_exporter": "python",
   "pygments_lexer": "ipython3",
   "version": "3.10.4"
  }
 },
 "nbformat": 4,
 "nbformat_minor": 5
}
